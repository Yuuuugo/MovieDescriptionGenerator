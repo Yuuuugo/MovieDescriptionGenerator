{
 "cells": [
  {
   "cell_type": "code",
   "execution_count": 2,
   "metadata": {},
   "outputs": [],
   "source": [
    "import wikipediaapi"
   ]
  },
  {
   "cell_type": "code",
   "execution_count": 3,
   "metadata": {},
   "outputs": [
    {
     "data": {
      "text/plain": [
       "True"
      ]
     },
     "execution_count": 3,
     "metadata": {},
     "output_type": "execute_result"
    }
   ],
   "source": [
    "wiki_wiki = wikipediaapi.Wikipedia(\n",
    "        language='en',\n",
    "        extract_format=wikipediaapi.ExtractFormat.WIKI\n",
    ")\n",
    "\n",
    "p_wiki = wiki_wiki.page(\"Toy Story\")\n",
    "p_wiki.exists()"
   ]
  },
  {
   "cell_type": "code",
   "execution_count": 4,
   "metadata": {},
   "outputs": [
    {
     "name": "stdout",
     "output_type": "stream",
     "text": [
      "Toy Story is a 1995 American computer-an\n"
     ]
    }
   ],
   "source": [
    "print(p_wiki.text[:40])"
   ]
  },
  {
   "cell_type": "code",
   "execution_count": 5,
   "metadata": {},
   "outputs": [
    {
     "data": {
      "text/plain": [
       "'In a world where toys come to life in the absence of humans, a group of toys is preparing to move into a new house with their owner, Andy Davis, his sister, Molly, and their single mother. The toys become uneasy when Andy has his birthday party a week early; pullstring cowboy doll Sheriff Woody, And'"
      ]
     },
     "execution_count": 5,
     "metadata": {},
     "output_type": "execute_result"
    }
   ],
   "source": [
    "p_wiki.section_by_title('Plot').text[:300]"
   ]
  }
 ],
 "metadata": {
  "kernelspec": {
   "display_name": "movieproject",
   "language": "python",
   "name": "python3"
  },
  "language_info": {
   "codemirror_mode": {
    "name": "ipython",
    "version": 3
   },
   "file_extension": ".py",
   "mimetype": "text/x-python",
   "name": "python",
   "nbconvert_exporter": "python",
   "pygments_lexer": "ipython3",
   "version": "3.9.16"
  },
  "orig_nbformat": 4,
  "vscode": {
   "interpreter": {
    "hash": "c67ca3d33c4911db214ad5ce59564195aa4c3267e42179da739e487bbe905e72"
   }
  }
 },
 "nbformat": 4,
 "nbformat_minor": 2
}
