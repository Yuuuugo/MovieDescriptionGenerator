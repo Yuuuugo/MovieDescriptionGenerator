{
 "cells": [
  {
   "cell_type": "code",
   "execution_count": 30,
   "metadata": {},
   "outputs": [],
   "source": [
    "from datasets import load_dataset\n",
    "from transformers import AutoTokenizer, GPT2LMHeadModel\n",
    "from transformers import AutoModelForCausalLM"
   ]
  },
  {
   "cell_type": "code",
   "execution_count": 31,
   "metadata": {},
   "outputs": [],
   "source": [
    "model = AutoModelForCausalLM.from_pretrained(\"../model/gpt_neo/\")\n",
    "tokenizer = AutoTokenizer.from_pretrained(\"../model/gpt_neo/\")"
   ]
  },
  {
   "cell_type": "code",
   "execution_count": 49,
   "metadata": {},
   "outputs": [
    {
     "name": "stderr",
     "output_type": "stream",
     "text": [
      "Setting `pad_token_id` to `eos_token_id`:50256 for open-end generation.\n"
     ]
    }
   ],
   "source": [
    "token = tokenizer(\"<|startoftext|>Sunday bloody sunday\", return_tensors=\"pt\")\n",
    "output = model.generate(**token, max_length=100, do_sample=True, top_k=200, top_p=0.95, num_return_sequences=3)"
   ]
  },
  {
   "cell_type": "code",
   "execution_count": 50,
   "metadata": {},
   "outputs": [
    {
     "name": "stdout",
     "output_type": "stream",
     "text": [
      "0 Sunday bloody sunday  : Set in 1948, the story begins in the Watts area of Los Angeles, with Ezekiel \"Easy\" Rawlins, a Houstonian — from that city's Fifth Ward — who lost his job at an aviation defense plant in Los Angeles and is unable to pay the mortgage on his LA home. Easy is sitting in a bar run by Joppy, a friend who is also from Houston, when a man named DeWitt Albright walks into the bar and offers him\n",
      "1 Sunday bloody sunday  : Set in 1948, the story begins in the Watts area of Los Angeles, with Dave, a young man who works as a snack stole pick-up for a gang of Yakuza members. After a power cut wards off sustaining damage to his employer's car, Dave takes advantage of the opportunity to kill his gang member father and get away. Pursuing him is the gang member's wife, Theresa. She does not recognise Dave's gang member's features, but\n",
      "2 Sunday bloody sunday  : Set in the small village of Nefyn, di\n"
     ]
    }
   ],
   "source": [
    "for i,o in enumerate(output):\n",
    "    print(i, tokenizer.decode(o, skip_special_tokens=True))\n"
   ]
  },
  {
   "cell_type": "code",
   "execution_count": null,
   "metadata": {},
   "outputs": [],
   "source": []
  }
 ],
 "metadata": {
  "kernelspec": {
   "display_name": "movieproject",
   "language": "python",
   "name": "python3"
  },
  "language_info": {
   "codemirror_mode": {
    "name": "ipython",
    "version": 3
   },
   "file_extension": ".py",
   "mimetype": "text/x-python",
   "name": "python",
   "nbconvert_exporter": "python",
   "pygments_lexer": "ipython3",
   "version": "3.9.16"
  },
  "orig_nbformat": 4,
  "vscode": {
   "interpreter": {
    "hash": "c67ca3d33c4911db214ad5ce59564195aa4c3267e42179da739e487bbe905e72"
   }
  }
 },
 "nbformat": 4,
 "nbformat_minor": 2
}
