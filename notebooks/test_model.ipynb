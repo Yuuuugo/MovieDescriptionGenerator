{
 "cells": [
  {
   "cell_type": "code",
   "execution_count": 1,
   "metadata": {},
   "outputs": [
    {
     "name": "stderr",
     "output_type": "stream",
     "text": [
      "/Users/hugo/opt/miniconda3/envs/movieproject/lib/python3.9/site-packages/tqdm/auto.py:22: TqdmWarning: IProgress not found. Please update jupyter and ipywidgets. See https://ipywidgets.readthedocs.io/en/stable/user_install.html\n",
      "  from .autonotebook import tqdm as notebook_tqdm\n"
     ]
    }
   ],
   "source": [
    "from datasets import load_dataset\n",
    "from transformers import AutoTokenizer, GPT2LMHeadModel\n",
    "from transformers import AutoModelForCausalLM"
   ]
  },
  {
   "cell_type": "code",
   "execution_count": 2,
   "metadata": {},
   "outputs": [],
   "source": [
    "model = AutoModelForCausalLM.from_pretrained(\"../model/saved_model/\")\n",
    "tokenizer = AutoTokenizer.from_pretrained(\"../model/saved_model/\")"
   ]
  },
  {
   "cell_type": "code",
   "execution_count": 28,
   "metadata": {},
   "outputs": [
    {
     "name": "stderr",
     "output_type": "stream",
     "text": [
      "Setting `pad_token_id` to `eos_token_id`:50256 for open-end generation.\n"
     ]
    }
   ],
   "source": [
    "token = tokenizer(\"Doctor Who : \", return_tensors=\"pt\")\n",
    "output = model.generate(**token, max_length=100, do_sample=True, top_k=100, top_p=0.95, num_return_sequences=6)"
   ]
  },
  {
   "cell_type": "code",
   "execution_count": 29,
   "metadata": {},
   "outputs": [
    {
     "name": "stdout",
     "output_type": "stream",
     "text": [
      "0 Doctor Who :  : Models, a school of the ten Ray Louis de Connor David band, a childhood-American crack becomes graduation, a new house toity Vienna to propose to Hawaii aboard The Queen Catherine. He is being her time listening to cope with his girlfriend captured had already chosen that he is forced to walk the prostitute at a massive energy ribbon. The Enterprise is able to such him on the Grand Continental, where they'd night, a crisis of N. If they do not both find true\n",
      "1 Doctor Who :  : Joe MacG Army house (Markbot 13hikes arrive) has arrived in a 1970s sitcom. Now a new living in British Columbia with his parents to attend sister, but they have not acted on Christmas Eve, embarrassingly dull. When they will identify (del his fortune.\n",
      "Upon her death, they try to a diary in love with a cube van that he may still be preferable to spy on his son Absalen, six months later, she starts an\n",
      "2 Doctor Who :  : Models, a summer day in Savannah, his legal secretary cousin, retired dance T. The pod is tracked down by life's car city. This provides its promise to keep her life, six music teacher and driving a rescue mission for him in when he meets Mary Swanson, a curved spine. Noah Faulkner is about to seal his mother Robert (Jason in their conversation, a long-term relationship with popular student Murray Duvall, six months later discovers that it contains\n",
      "3 Doctor Who :  : Nathaniel Mayweather is a stylish, a thirtysomething wipes for Paris whales As threat in San Francisco for the French embassy in China. However, Oregon, Gallimard is serving a Paris across Mexico, a powerful demon in human form, arrives in her marriage, a fourth history of commitment grows as they were or 20 who attempts at a reluctant Ray, leaving him. Thousands of women from around the terminal. The leader of the group confirms that the Grand Abbot gives Ace excuses to\n",
      "4 Doctor Who :  : Joe MacG, a brief in Paris teacher inv during the perspective of 1969, with his best friend Peter, a Paris divorce court where he tells him on his fingers into a position as he was to pump gas under it. Once he has employed his unlawful activities but is infatuated  with his cabinita, Andy's favorite toy and their leader, who arrived on his son in a law student neighbour of whether Jake can last long enough to her husband, she starts an\n",
      "5 Doctor Who :  : Joe MacGonaughgill (Eric Schaeffer) and Lucy Ackerman (Sarah Jessica Parker) are roommates and best friends living in a small Manhattan apartment. Lucy is turning thirty and her love life is embarrassingly dull. Joe on the other hand is infatuated  with his attractive neighbor Jane (Elle Macpherson). Lucy then decides to form a death pact with Joe like they'd had back in college. If they do not both find true\n"
     ]
    }
   ],
   "source": [
    "for i,o in enumerate(output):\n",
    "    print(i, tokenizer.decode(o, skip_special_tokens=True))\n"
   ]
  }
 ],
 "metadata": {
  "kernelspec": {
   "display_name": "movieproject",
   "language": "python",
   "name": "python3"
  },
  "language_info": {
   "codemirror_mode": {
    "name": "ipython",
    "version": 3
   },
   "file_extension": ".py",
   "mimetype": "text/x-python",
   "name": "python",
   "nbconvert_exporter": "python",
   "pygments_lexer": "ipython3",
   "version": "3.9.16"
  },
  "orig_nbformat": 4,
  "vscode": {
   "interpreter": {
    "hash": "c67ca3d33c4911db214ad5ce59564195aa4c3267e42179da739e487bbe905e72"
   }
  }
 },
 "nbformat": 4,
 "nbformat_minor": 2
}
