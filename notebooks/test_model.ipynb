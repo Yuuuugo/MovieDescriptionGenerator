{
 "cells": [
  {
   "cell_type": "code",
   "execution_count": 2,
   "metadata": {},
   "outputs": [
    {
     "name": "stderr",
     "output_type": "stream",
     "text": [
      "/Users/hugo/opt/miniconda3/envs/movieproject/lib/python3.9/site-packages/tqdm/auto.py:22: TqdmWarning: IProgress not found. Please update jupyter and ipywidgets. See https://ipywidgets.readthedocs.io/en/stable/user_install.html\n",
      "  from .autonotebook import tqdm as notebook_tqdm\n"
     ]
    }
   ],
   "source": [
    "from datasets import load_dataset\n",
    "from transformers import AutoTokenizer, GPT2LMHeadModel\n",
    "from transformers import AutoModelForCausalLM"
   ]
  },
  {
   "cell_type": "code",
   "execution_count": 5,
   "metadata": {},
   "outputs": [],
   "source": [
    "model = AutoModelForCausalLM.from_pretrained(\"../model/saved_model/\")\n",
    "tokenizer = AutoTokenizer.from_pretrained(\"../model/saved_model/\")"
   ]
  },
  {
   "cell_type": "code",
   "execution_count": 11,
   "metadata": {},
   "outputs": [
    {
     "name": "stderr",
     "output_type": "stream",
     "text": [
      "Setting `pad_token_id` to `eos_token_id`:50256 for open-end generation.\n"
     ]
    }
   ],
   "source": [
    "token = tokenizer(\"Toy Story : \", return_tensors=\"pt\")\n",
    "output = model.generate(**token, max_length=100, do_sample=True, top_k=50, top_p=0.95, num_return_sequences=6)"
   ]
  },
  {
   "cell_type": "code",
   "execution_count": 13,
   "metadata": {},
   "outputs": [
    {
     "name": "stdout",
     "output_type": "stream",
     "text": [
      "0 Toy Story :  to to the a the is the a the his, and the\n",
      " the, and, and her the, and the the and.\n",
      " to the by. The, and a the he the. The to the their, and the.\n",
      " the. The.\n",
      " a, and a. He the, the is the as the, and a a a.\n",
      " the of the.\n",
      ".\n",
      ", and, the.\n",
      " his, and he, but and of a\n",
      "1 Toy Story :  the is is a a the.\n",
      ", and to be be the.\n",
      ", and his the and a, and the in the to the the a the and of the, and she, in a the, and an,, and and the, he.\n",
      " the and the, and the the a, is a the to him.\n",
      " to a, and the.\n",
      " the, and is, in the to the, but into the of a he and the a\n",
      "2 Toy Story :, being the a and the a, and the to the her, and the to the a, the his the.\n",
      " a and, and, and the and, and to a the a with to the.\n",
      " of a the. He, and the, and, has, the to the and a a, the and the of the and the is the, and a the to a, and, and. The a the of the with a.\n",
      " is the,\n",
      "3 Toy Story :  a the.\n",
      " a a, and the, and his of the the into the, and she of the into the of the and her.\n",
      " to a is to and a,, and a and the to a the the his to the, and an a the. He.\n",
      " to the the and the and the.\n",
      ", who.\n",
      " in the who.\n",
      ", but, and the to a of a, the his and the the, and the and the\n",
      "4 Toy Story :, and his to the a the his, and the the the.\n",
      " he a the.\n",
      " a a a to the who.\n",
      " a, and the to the his, and the.\n",
      " he a, who. The him to a the a.\n",
      ", and the the, and the is the with the. The, they.\n",
      " is a.\n",
      " to a of the, and the, but. The. When and his and the and a the and the\n",
      "5 Toy Story :  of the and, and the and the of the and his, the in the\n",
      " a, and the\n",
      " with the the a the to a to a.\n",
      ", but.\n",
      ", and the, and a their has is his a and, and, and, of her and, and a, the his and the\n",
      " to the a to the the as to is to that a the. The to the to the is and being and he, and the is, and\n"
     ]
    }
   ],
   "source": [
    "for i,o in enumerate(output):\n",
    "    print(i, tokenizer.decode(o, skip_special_tokens=True))\n"
   ]
  }
 ],
 "metadata": {
  "kernelspec": {
   "display_name": "movieproject",
   "language": "python",
   "name": "python3"
  },
  "language_info": {
   "codemirror_mode": {
    "name": "ipython",
    "version": 3
   },
   "file_extension": ".py",
   "mimetype": "text/x-python",
   "name": "python",
   "nbconvert_exporter": "python",
   "pygments_lexer": "ipython3",
   "version": "3.9.16"
  },
  "orig_nbformat": 4,
  "vscode": {
   "interpreter": {
    "hash": "c67ca3d33c4911db214ad5ce59564195aa4c3267e42179da739e487bbe905e72"
   }
  }
 },
 "nbformat": 4,
 "nbformat_minor": 2
}
