{
 "cells": [
  {
   "cell_type": "code",
   "execution_count": 52,
   "metadata": {},
   "outputs": [],
   "source": [
    "from datasets import load_dataset\n",
    "from transformers import AutoTokenizer, GPT2LMHeadModel\n",
    "from transformers import AutoModelForCausalLM"
   ]
  },
  {
   "cell_type": "code",
   "execution_count": 53,
   "metadata": {},
   "outputs": [],
   "source": [
    "model = AutoModelForCausalLM.from_pretrained(\"../model/gpt_neo/\")\n",
    "tokenizer = AutoTokenizer.from_pretrained(\"../model/gpt_neo/\")"
   ]
  },
  {
   "cell_type": "code",
   "execution_count": 58,
   "metadata": {},
   "outputs": [
    {
     "name": "stderr",
     "output_type": "stream",
     "text": [
      "Setting `pad_token_id` to `eos_token_id`:50256 for open-end generation.\n"
     ]
    }
   ],
   "source": [
    "token = tokenizer(\"<|startoftext|>The bird with the crystal plumage\", return_tensors=\"pt\")\n",
    "output = model.generate(**token, max_length=100, do_sample=True, top_k=200, top_p=0.95, num_return_sequences=3)"
   ]
  },
  {
   "cell_type": "code",
   "execution_count": 59,
   "metadata": {},
   "outputs": [
    {
     "name": "stdout",
     "output_type": "stream",
     "text": [
      "0 The bird with the crystal plumage  : In the city of crystal, a young woman, Irene, finds a dead bird on her farm. The corpse belongs to a young black man, Jesse, who had been persecuting her white landowner father. After a blood test confirms that he is also a dead\n",
      "1 The bird with the crystal plumage  : William Adamson (Mark Rylance), a naturalist, returns to Victorian England, to live with his benefactor, Sir Harold Alabaster (Jeremy Kemp), a wealthy Baronet. He has lost his possessions in a shipwreck, returning from an extended expedition to the Amazon. Now dependent upon his patron, William is employed to catalog Sir Harold's specimen collection and teach his younger children the natural sciences, assisting their governess, the un\n",
      "2 The bird with the crystal plumage  : In a coastal California town on Christmas Eve, ex-con Felix is being chased down the road by his angry, pregnant wife, Gracie, dressed as Santa Claus. He accidentally runs into and damages a Christmas tree carried by two rollerbladers. When an argument breaks out among them, a stranger, Philip, unsuccessfully attempts to calm them down. They soon disperse, Philip picks up the tree and rides off on his bike.\n",
      "Philip,\n"
     ]
    }
   ],
   "source": [
    "for i,o in enumerate(output):\n",
    "    print(i, tokenizer.decode(o, skip_special_tokens=True))\n"
   ]
  },
  {
   "cell_type": "code",
   "execution_count": null,
   "metadata": {},
   "outputs": [],
   "source": []
  }
 ],
 "metadata": {
  "kernelspec": {
   "display_name": "movieproject",
   "language": "python",
   "name": "python3"
  },
  "language_info": {
   "codemirror_mode": {
    "name": "ipython",
    "version": 3
   },
   "file_extension": ".py",
   "mimetype": "text/x-python",
   "name": "python",
   "nbconvert_exporter": "python",
   "pygments_lexer": "ipython3",
   "version": "3.9.16"
  },
  "orig_nbformat": 4,
  "vscode": {
   "interpreter": {
    "hash": "c67ca3d33c4911db214ad5ce59564195aa4c3267e42179da739e487bbe905e72"
   }
  }
 },
 "nbformat": 4,
 "nbformat_minor": 2
}
