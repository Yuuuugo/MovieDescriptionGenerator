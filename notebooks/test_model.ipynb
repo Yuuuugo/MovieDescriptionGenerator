{
 "cells": [
  {
   "cell_type": "code",
   "execution_count": 30,
   "metadata": {},
   "outputs": [],
   "source": [
    "from datasets import load_dataset\n",
    "from transformers import AutoTokenizer, GPT2LMHeadModel\n",
    "from transformers import AutoModelForCausalLM"
   ]
  },
  {
   "cell_type": "code",
   "execution_count": 31,
   "metadata": {},
   "outputs": [],
   "source": [
    "model = AutoModelForCausalLM.from_pretrained(\"../model/gpt_neo/\")\n",
    "tokenizer = AutoTokenizer.from_pretrained(\"../model/gpt_neo/\")"
   ]
  },
  {
   "cell_type": "code",
   "execution_count": 45,
   "metadata": {},
   "outputs": [
    {
     "name": "stderr",
     "output_type": "stream",
     "text": [
      "Setting `pad_token_id` to `eos_token_id`:50256 for open-end generation.\n"
     ]
    }
   ],
   "source": [
    "token = tokenizer(\"<|startoftext|>New Hope\", return_tensors=\"pt\")\n",
    "output = model.generate(**token, max_length=100, do_sample=True, top_k=200, top_p=0.95, num_return_sequences=2)"
   ]
  },
  {
   "cell_type": "code",
   "execution_count": 46,
   "metadata": {},
   "outputs": [
    {
     "name": "stdout",
     "output_type": "stream",
     "text": [
      "0 New Hope  : Michael Williams is a young black man living in inner city Chicago. His father was murdered when Michael was a boy, and his mother is unable to cope with hisiki f\n",
      "1 New Hope  : In New Hope, Iowa, former Confederate States Army officer Lawyer T. Sampson is the kindly old judge who delivers Lawyer's Bench into the rescue mission of a young architect who has fallen into a deep depression after she is raped as a child. The architect is turned down again and Lawyer prepares to give up.\n",
      "On his fourth try, Lawyer meets Withington, a tormented young man who has lost his wife and believes that life has no answers.\n"
     ]
    }
   ],
   "source": [
    "for i,o in enumerate(output):\n",
    "    print(i, tokenizer.decode(o, skip_special_tokens=True))\n"
   ]
  }
 ],
 "metadata": {
  "kernelspec": {
   "display_name": "movieproject",
   "language": "python",
   "name": "python3"
  },
  "language_info": {
   "codemirror_mode": {
    "name": "ipython",
    "version": 3
   },
   "file_extension": ".py",
   "mimetype": "text/x-python",
   "name": "python",
   "nbconvert_exporter": "python",
   "pygments_lexer": "ipython3",
   "version": "3.9.16"
  },
  "orig_nbformat": 4,
  "vscode": {
   "interpreter": {
    "hash": "c67ca3d33c4911db214ad5ce59564195aa4c3267e42179da739e487bbe905e72"
   }
  }
 },
 "nbformat": 4,
 "nbformat_minor": 2
}
