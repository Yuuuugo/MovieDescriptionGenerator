{
 "cells": [
  {
   "cell_type": "code",
   "execution_count": 1,
   "metadata": {},
   "outputs": [
    {
     "name": "stderr",
     "output_type": "stream",
     "text": [
      "/Users/hugo/opt/miniconda3/envs/movieproject/lib/python3.9/site-packages/tqdm/auto.py:22: TqdmWarning: IProgress not found. Please update jupyter and ipywidgets. See https://ipywidgets.readthedocs.io/en/stable/user_install.html\n",
      "  from .autonotebook import tqdm as notebook_tqdm\n"
     ]
    }
   ],
   "source": [
    "from transformers import AutoTokenizer, AutoModelForCausalLM"
   ]
  },
  {
   "cell_type": "code",
   "execution_count": 2,
   "metadata": {},
   "outputs": [
    {
     "data": {
      "text/plain": [
       "Embedding(50257, 768)"
      ]
     },
     "execution_count": 2,
     "metadata": {},
     "output_type": "execute_result"
    }
   ],
   "source": [
    "model_checkpoint = \"gpt2\"\n",
    "tokenizer = AutoTokenizer.from_pretrained(model_checkpoint)\n",
    "model = AutoModelForCausalLM.from_pretrained(model_checkpoint)\n",
    "model.resize_token_embeddings(len(tokenizer))"
   ]
  },
  {
   "cell_type": "code",
   "execution_count": 3,
   "metadata": {},
   "outputs": [
    {
     "data": {
      "text/plain": [
       "tensor([[48236,  8362,  1058,   220]])"
      ]
     },
     "execution_count": 3,
     "metadata": {},
     "output_type": "execute_result"
    }
   ],
   "source": [
    "prompt_text =  'Toy Story : ' \n",
    "token = tokenizer(prompt_text, return_tensors='pt')\n",
    "token.input_ids"
   ]
  },
  {
   "cell_type": "code",
   "execution_count": 4,
   "metadata": {},
   "outputs": [
    {
     "data": {
      "text/plain": [
       "'Toy Story : '"
      ]
     },
     "execution_count": 4,
     "metadata": {},
     "output_type": "execute_result"
    }
   ],
   "source": [
    "tokenizer.decode(token.input_ids[0])"
   ]
  },
  {
   "cell_type": "code",
   "execution_count": 5,
   "metadata": {},
   "outputs": [
    {
     "name": "stderr",
     "output_type": "stream",
     "text": [
      "The attention mask and the pad token id were not set. As a consequence, you may observe unexpected behavior. Please pass your input's `attention_mask` to obtain reliable results.\n",
      "Setting `pad_token_id` to `eos_token_id`:50256 for open-end generation.\n"
     ]
    },
    {
     "name": "stdout",
     "output_type": "stream",
     "text": [
      "0 Toy Story :  How you handle your own personal life.  This would be a very interesting topic, as it will be a common topic to discuss.  The idea here is that you should try to decide whether you like it or not.\n",
      "Once you've decided whether you're going to write for the story, you can tell which type you're comfortable with in the comments section.  If you are a writer, you probably already know all that, and that's pretty\n",
      "1 Toy Story :  \"The Tale of the TARDIS\" - The New York Times \"\n",
      "The original, written by Christopher Eccleston for Star Trek: Discovery in the 1940s.\n",
      "The New Romulan Society \"\n",
      "After the death of James Earl Ray, and the disappearance of Captain Kirk, he was left to wander the galaxy, alone and in hiding, looking for answers.\n",
      "\"\n",
      "\n",
      "  The original Star Trek.\n",
      "After the war with Kirk, he decided to\n",
      "2 Toy Story :  The Big Sleep.  I've always considered this to be the last big story I would ever write.  I'll admit that I've always wanted to write a lot of story-driven books on sci-fi and fantasy elements, because for me this was a big game changer.  I never dreamed I'd write a trilogy that would go on to tell the history of humanity, science and technology.  I always felt that if I ever felt the\n",
      "3 Toy Story :  A character who's been kidnapped by the people she loves, she needs to know her mother is dead (but not in order to save her daughter).   When the police are looking for her, she says to the police that she had been abducted.   What's the meaning of that?  She believes she's been abducted and is determined to find her mother (she never says who)   The police will also be looking for her after she has been released from the\n",
      "4 Toy Story :  I know, it was one of the first and most memorable movies of my youth.   I never knew they were going to make it into the big time, but I remember the big-screen moment when the heroine takes a picture of a person wearing a costume that was too cute to wear in a romantic love scene.   The next day was the first day I really went back for the movie, I remember seeing the trailer for a scene that was actually a scene from that\n",
      "5 Toy Story :  We have always been known as the \"Ghostbusters\" family.  They were, as always, the villains of the movie. The character from the previous movie, 'The Hunt For Red Robin,' is  a fairly well known character.  Her name is also synonymous with her name, the name of her daughter, and her \"red\" hair and \"blue\" beard are all common and well known.  She is the face of a well known hero, and\n",
      "6 Toy Story : 一様会に対て樹に福りました!\n",
      "\n",
      "日本語でも害プロップ: なもその人楽み!\n",
      "\n",
      "陛視る通果の本利\n",
      "\n",
      "第一正の名に程度くれど!\n",
      "\n",
      "Hou\n",
      "7 Toy Story :  - 1 of 6     1 of 6\n",
      "So let's jump in and have a few drinks with my fellow crewmembers.\n",
      "Drake- : 4\n",
      "Sara- : 5\n",
      "Walking on the sand there was this little island with the wind blowing it in every direction...so it was like they were trying to save us.\n",
      "Rhea- : 6\n",
      "The boat in front of us had some water coming out from above it like it was some kind\n",
      "8 Toy Story :  I was so impressed by it I didn't care that I bought it a month or two ago but did look on Amazon, and my gifter decided that they wanted to help me with it so they gave it a try! So I'm really happy that they said \"thanks\" and they did. So far, I didn't notice any difference in anything, because I was still a little overjoyed. I got a big bottle of Monster's Milk and a huge bottle\n",
      "9 Toy Story :  The series is based on a short story about three middle-aged girls, who have different kinds of magic.  They have magical powers but are never able to use them correctly.  At the same time, they're able to get a special feeling from playing magic, so that's a good addition. They come together with their friends to try to learn a powerful magic. However, since they are all under one roof, their combined power will only take them so\n"
     ]
    }
   ],
   "source": [
    "response = model.generate(token.input_ids, do_sample=True, max_length=100, top_k=50, top_p=0.95, num_return_sequences=10, )\n",
    "for i, sample_output in enumerate(response):\n",
    "    print(i,tokenizer.decode(sample_output, skip_special_tokens=True))"
   ]
  }
 ],
 "metadata": {
  "kernelspec": {
   "display_name": "movieproject",
   "language": "python",
   "name": "python3"
  },
  "language_info": {
   "codemirror_mode": {
    "name": "ipython",
    "version": 3
   },
   "file_extension": ".py",
   "mimetype": "text/x-python",
   "name": "python",
   "nbconvert_exporter": "python",
   "pygments_lexer": "ipython3",
   "version": "3.9.16"
  },
  "orig_nbformat": 4,
  "vscode": {
   "interpreter": {
    "hash": "c67ca3d33c4911db214ad5ce59564195aa4c3267e42179da739e487bbe905e72"
   }
  }
 },
 "nbformat": 4,
 "nbformat_minor": 2
}
