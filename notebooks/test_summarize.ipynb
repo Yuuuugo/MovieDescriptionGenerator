{
 "cells": [
  {
   "cell_type": "code",
   "execution_count": 2,
   "metadata": {},
   "outputs": [
    {
     "name": "stderr",
     "output_type": "stream",
     "text": [
      "/Users/hugo/opt/miniconda3/envs/movieproject/lib/python3.9/site-packages/tqdm/auto.py:22: TqdmWarning: IProgress not found. Please update jupyter and ipywidgets. See https://ipywidgets.readthedocs.io/en/stable/user_install.html\n",
      "  from .autonotebook import tqdm as notebook_tqdm\n"
     ]
    }
   ],
   "source": [
    "from transformers import pipeline"
   ]
  },
  {
   "cell_type": "code",
   "execution_count": 5,
   "metadata": {},
   "outputs": [
    {
     "name": "stderr",
     "output_type": "stream",
     "text": [
      "/Users/hugo/opt/miniconda3/envs/movieproject/lib/python3.9/site-packages/transformers/models/t5/tokenization_t5_fast.py:155: FutureWarning: This tokenizer was incorrectly instantiated with a model max length of 512 which will be corrected in Transformers v5.\n",
      "For now, this behavior is kept to avoid breaking backwards compatibility when padding/encoding with `truncation is True`.\n",
      "- Be aware that you SHOULD NOT rely on t5-base automatically truncating your input to 512 when padding/encoding.\n",
      "- If you want to encode/pad to sequences longer than 512 you can either instantiate this tokenizer with `model_max_length` or pass `max_length` when encoding/padding.\n",
      "- To avoid this warning, please instantiate this tokenizer with `model_max_length` set to your preferred value.\n",
      "  warnings.warn(\n"
     ]
    }
   ],
   "source": [
    "model = \"t5-base\"\n",
    "summarizer = pipeline(\"summarization\", model=model)\n"
   ]
  },
  {
   "cell_type": "code",
   "execution_count": 6,
   "metadata": {},
   "outputs": [],
   "source": [
    "plot = \"In a world where toys come to life in the absence of humans, a group of toys is preparing to move into a new house with their owner, Andy Davis, his sister, Molly, and their single mother. The toys become uneasy when Andy has his birthday party a week early; pullstring cowboy doll Sheriff Woody, Andy's favorite toy and their leader, sends Sarge and his green army men to spy on the gift-opening with a baby monitor in hopes of calming the others. The other toys which include Mr. Potato Head, Slinky Dog, Rex (a toy dinosaur), Hamm (a piggy bank), and Bo Peep (a porcelain doll) are relieved when Andy receives nothing that could replace them. Andy then receives a last-minute surprise gift from his mother: A Buzz Lightyear action figure, who believes he is an actual space ranger. Buzz impresses the other toys with his various features, and becomes Andy's new favorite toy, making Woody jealous. Two days before the move, Andy's family plans for a dinner at Pizza Planet, where Andy is allowed to bring along only one toy. To ensure Andy chooses him and not Buzz, Woody tries to use the radio-controlled car RC to knock Buzz behind the dresser, but accidentally knocks him out a window instead. Most of the other toys suspect that Woody intentionally tried to kill Buzz, but Andy arrives and takes Woody before they can exact revenge. A furious Buzz stows away in the car, and confronts Woody when the car stops at a gas station on the way to Pizza Planet. The two fight, fall out of the car, and are left behind.After a further argument, the two hitch a ride on a Pizza Planet delivery truck and sneak into the restaurant. However, Buzz mistakes a claw crane full of Little Green Men for a spaceship, and enters it, with Woody in pursuit. Andy's sadistic next-door neighbor Sid Phillips spots and wins the two, along with a Little Green Man, and takes them to his house. Woody and Buzz encounter Sid's vicious Bull Terrier Scud and some mutant toys made from parts of other toys Sid has destroyed.As Woody tries to find an escape route, Buzz is shocked to see a Buzz Lightyear action figure television commercial that proves that he is indeed just a toy. In denial, he attempts to fly, but fails, breaking his arm, sending him into a depression. After the mutant toys fix Buzz, Sid returns and tapes Buzz to a rocket, intending to blow him up, but he is forced to wait until the next morning due to bad weather. Woody helps Buzz realize that his purpose is making Andy happy, while admitting his own insecurities. This conversation restores Buzz's resolve, and the two work to get out of Sid's house. Just as Sid takes Buzz out to attempt to launch him, Woody rallies the mutant toys to frighten Sid into never harming toys again, freeing him and Buzz. Woody and Buzz pursue Andy's moving truck, but Scud sees them and gives chase, biting Woody's ankle. Buzz fights off Scud, while Woody climbs into the truck and pushes RC out, using him to distract Scud and rescue Buzz. The other toys, thinking Woody is now trying to get rid of RC, toss Woody back into the street. Having escaped Scud, Buzz and Woody pursue the truck on RC, and the other toys spot them coming and realize their error. During the chase, RC's batteries run out, forcing Woody to light the rocket still strapped to Buzz. As they launch towards the truck, they become airborne, and Woody drops RC into the truck. Buzz opens his wings to sever the tape just before the rocket explodes; he and Woody glide over the truck and fall through the sunroof of Andy's car, landing safely beside Andy. At Christmas, in the new house, Sarge and his men spy on the gift-opening again while the other toys wait. Mr. Potato Head is delighted when Molly gets a Mrs. Potato Head, and Woody and Buzz jokingly ponder what gift could be 'worse' than Buzz, only to nervously smile at each other when Andy gets a dachshund puppy.\""
   ]
  },
  {
   "cell_type": "code",
   "execution_count": 11,
   "metadata": {},
   "outputs": [
    {
     "data": {
      "text/plain": [
       "'a group of toys are preparing to move into a new house with their owner, Andy Davis . a pullstring cowboy doll sends Sarge and his green army men to spy on the gift-opening . Andy receives a last-minute surprise gift from his mother, a Buzz Lightyear action figure . the mutant toys frighten Sid Phillips into never harming toys again, freeing him and Buzz . and a dachshund puppy is delighted when Andy gets a  n  .   \" . -  an    n -  nn n. s  . \"  in  - \"   \" \" \" - s  \" .- .. -- s \" \" \"  \" n \" ,  , \" s.  \\' \" \"\"  \"\"\" \"\" \" \"s\" \" \\'\" \\'\\' \" \" \"n \" \"n \\' n\"'"
      ]
     },
     "execution_count": 11,
     "metadata": {},
     "output_type": "execute_result"
    }
   ],
   "source": [
    "summarizer(plot, max_length=300, min_length=250, do_sample=False)[0][\"summary_text\"]"
   ]
  },
  {
   "cell_type": "code",
   "execution_count": null,
   "metadata": {},
   "outputs": [],
   "source": []
  }
 ],
 "metadata": {
  "kernelspec": {
   "display_name": "movieproject",
   "language": "python",
   "name": "python3"
  },
  "language_info": {
   "codemirror_mode": {
    "name": "ipython",
    "version": 3
   },
   "file_extension": ".py",
   "mimetype": "text/x-python",
   "name": "python",
   "nbconvert_exporter": "python",
   "pygments_lexer": "ipython3",
   "version": "3.9.16"
  },
  "orig_nbformat": 4,
  "vscode": {
   "interpreter": {
    "hash": "c67ca3d33c4911db214ad5ce59564195aa4c3267e42179da739e487bbe905e72"
   }
  }
 },
 "nbformat": 4,
 "nbformat_minor": 2
}
